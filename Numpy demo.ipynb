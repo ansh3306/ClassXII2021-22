{
 "cells": [
  {
   "cell_type": "markdown",
   "id": "ca3324e9",
   "metadata": {},
   "source": [
    "# Working with Numpy"
   ]
  },
  {
   "cell_type": "markdown",
   "id": "ffca94c7",
   "metadata": {},
   "source": [
    "## Why we use numpy inseated of list"
   ]
  },
  {
   "cell_type": "markdown",
   "id": "0de3a7d8",
   "metadata": {},
   "source": [
    "### Demonstration of Consuming Less memory by Numpy , Fast and Convenient"
   ]
  },
  {
   "cell_type": "code",
   "execution_count": 1,
   "id": "ceeaae9e",
   "metadata": {},
   "outputs": [],
   "source": [
    "import numpy as np\n",
    "import math as ml\n",
    "import time\n",
    "import sys"
   ]
  },
  {
   "cell_type": "code",
   "execution_count": 2,
   "id": "ffbaac38",
   "metadata": {},
   "outputs": [
    {
     "name": "stdout",
     "output_type": "stream",
     "text": [
      "range(0, 100)\n"
     ]
    }
   ],
   "source": [
    "li = range(100)\n",
    "print(li)"
   ]
  },
  {
   "cell_type": "code",
   "execution_count": 3,
   "id": "fdd25ce6",
   "metadata": {},
   "outputs": [
    {
     "name": "stdout",
     "output_type": "stream",
     "text": [
      "2800\n"
     ]
    }
   ],
   "source": [
    "print(sys.getsizeof(2)*len(li))"
   ]
  },
  {
   "cell_type": "code",
   "execution_count": 4,
   "id": "f3e9b366",
   "metadata": {},
   "outputs": [
    {
     "name": "stdout",
     "output_type": "stream",
     "text": [
      "400\n"
     ]
    }
   ],
   "source": [
    "a = np.arange(100)\n",
    "print(a.size*a.itemsize)"
   ]
  },
  {
   "cell_type": "code",
   "execution_count": 5,
   "id": "670c247a",
   "metadata": {},
   "outputs": [
    {
     "name": "stdout",
     "output_type": "stream",
     "text": [
      "503.68738174438477\n"
     ]
    }
   ],
   "source": [
    "s= 1000000\n",
    "l1 = range(s)\n",
    "l2 = range(s)\n",
    "start = time.time()\n",
    "l3 = [(x,y)for x,y in zip(l1,l2)]\n",
    "print((time.time()-start)*1000)"
   ]
  },
  {
   "cell_type": "code",
   "execution_count": 6,
   "id": "9f31aea6",
   "metadata": {},
   "outputs": [
    {
     "name": "stdout",
     "output_type": "stream",
     "text": [
      "3.9980411529541016\n"
     ]
    }
   ],
   "source": [
    "a1 = np.arange(s)\n",
    "a2 = np.arange(s)\n",
    "start = time.time()\n",
    "a3 = a1+a2\n",
    "print((time.time()-start)*1000)"
   ]
  },
  {
   "cell_type": "markdown",
   "id": "cb0f5a07",
   "metadata": {},
   "source": [
    "# Array Creation: Conversion from other python structure "
   ]
  },
  {
   "cell_type": "code",
   "execution_count": 7,
   "id": "2bb2622e",
   "metadata": {},
   "outputs": [
    {
     "name": "stdout",
     "output_type": "stream",
     "text": [
      "([2, 6, 888], [6, 5, 9], [6, 5, 4])\n",
      "<class 'tuple'>\n",
      "[[  2   6 888]\n",
      " [  6   5   9]\n",
      " [  6   5   4]] [[2 5 8]\n",
      " [5 7 8]\n",
      " [6 7 1]]\n",
      "<class 'numpy.ndarray'>\n",
      "2\n"
     ]
    }
   ],
   "source": [
    "### Creating numpy array using list\n",
    "li = [2,6,888],[6,5,9],[6,5,4]\n",
    "li2 = [2,5,8], [5,7,8],[6,7,1]\n",
    "li1 = np.array(li,np.int32)\n",
    "li3 = np.array(li2)\n",
    "print(li)\n",
    "print(type(li))\n",
    "print(li1, li3)\n",
    "print(type(li1))\n",
    "li1.dtype\n",
    "print(li1.ndim)"
   ]
  },
  {
   "cell_type": "code",
   "execution_count": 8,
   "id": "7bab1d4d",
   "metadata": {},
   "outputs": [
    {
     "name": "stdout",
     "output_type": "stream",
     "text": [
      "1\n",
      "2\n"
     ]
    }
   ],
   "source": [
    "#Find the dimension of an Array\n",
    "arr = np.array([(1,2,3,4,5),(6,7,8,9,10),(11,12,13,14,15)],np.int16)\n",
    "a = np.array([1,2,3])\n",
    "print(a.ndim)\n",
    "print(arr.ndim)"
   ]
  },
  {
   "cell_type": "code",
   "execution_count": 9,
   "id": "b86ced79",
   "metadata": {},
   "outputs": [
    {
     "name": "stdout",
     "output_type": "stream",
     "text": [
      "2\n",
      "4\n"
     ]
    }
   ],
   "source": [
    "#Find the byte size of each of the array element\n",
    "print(arr.itemsize)\n",
    "print(a.itemsize)"
   ]
  },
  {
   "cell_type": "code",
   "execution_count": 10,
   "id": "9c644644",
   "metadata": {},
   "outputs": [
    {
     "name": "stdout",
     "output_type": "stream",
     "text": [
      "int16\n",
      "int32\n"
     ]
    }
   ],
   "source": [
    "#FInd the data type or dtype of array\n",
    "print(arr.dtype)\n",
    "print(a.dtype)"
   ]
  },
  {
   "cell_type": "code",
   "execution_count": 11,
   "id": "193d6692",
   "metadata": {},
   "outputs": [
    {
     "name": "stdout",
     "output_type": "stream",
     "text": [
      "3\n",
      "15\n"
     ]
    }
   ],
   "source": [
    "#Find the size of Array\n",
    "print(a.size)\n",
    "print(arr.size)"
   ]
  },
  {
   "cell_type": "code",
   "execution_count": 12,
   "id": "de915420",
   "metadata": {},
   "outputs": [
    {
     "name": "stdout",
     "output_type": "stream",
     "text": [
      "(3,)\n",
      "(3, 5)\n"
     ]
    }
   ],
   "source": [
    "#find the shape of array\n",
    "print(a.shape)\n",
    "print(arr.shape)"
   ]
  },
  {
   "cell_type": "code",
   "execution_count": 13,
   "id": "911e721a",
   "metadata": {},
   "outputs": [
    {
     "name": "stdout",
     "output_type": "stream",
     "text": [
      "[0. 0. 0. 0. 0.]\n",
      "[[[0 0 0]\n",
      "  [0 0 0]\n",
      "  [0 0 0]]\n",
      "\n",
      " [[0 0 0]\n",
      "  [0 0 0]\n",
      "  [0 0 0]]\n",
      "\n",
      " [[0 0 0]\n",
      "  [0 0 0]\n",
      "  [0 0 0]]]\n",
      "<class 'numpy.ndarray'>\n"
     ]
    },
    {
     "data": {
      "text/plain": [
       "dtype('int32')"
      ]
     },
     "execution_count": 13,
     "metadata": {},
     "output_type": "execute_result"
    }
   ],
   "source": [
    "# Arrays creation using zeros() method\n",
    "z = np.zeros(5)\n",
    "print(z)\n",
    "z1 =np.zeros([3,3,3], dtype =  np.int32)\n",
    "print(z1)\n",
    "print(type(z1))\n",
    "z1.dtype"
   ]
  },
  {
   "cell_type": "code",
   "execution_count": 14,
   "id": "a9638e21",
   "metadata": {},
   "outputs": [
    {
     "name": "stdout",
     "output_type": "stream",
     "text": [
      "[1 1 1]\n",
      "[[[1. 1.]\n",
      "  [1. 1.]\n",
      "  [1. 1.]\n",
      "  [1. 1.]]\n",
      "\n",
      " [[1. 1.]\n",
      "  [1. 1.]\n",
      "  [1. 1.]\n",
      "  [1. 1.]]\n",
      "\n",
      " [[1. 1.]\n",
      "  [1. 1.]\n",
      "  [1. 1.]\n",
      "  [1. 1.]]\n",
      "\n",
      " [[1. 1.]\n",
      "  [1. 1.]\n",
      "  [1. 1.]\n",
      "  [1. 1.]]]\n"
     ]
    }
   ],
   "source": [
    "#Array creations using ones() method\n",
    "o = np.ones(3, dtype = np.int16)\n",
    "print(o)\n",
    "o1 = np.ones((4,4,2))\n",
    "print(o1)\n"
   ]
  },
  {
   "cell_type": "code",
   "execution_count": 15,
   "id": "9f15f0a3",
   "metadata": {},
   "outputs": [
    {
     "name": "stdout",
     "output_type": "stream",
     "text": [
      "[2 2 2]\n",
      "[[4 4]\n",
      " [4 4]\n",
      " [4 4]]\n"
     ]
    }
   ],
   "source": [
    "# Array Creation using full() methods\n",
    "f = np.full(3,2)\n",
    "print(f)\n",
    "f1 =np.full((3,2),4)\n",
    "print(f1)"
   ]
  },
  {
   "cell_type": "code",
   "execution_count": 16,
   "id": "4fbefa85",
   "metadata": {},
   "outputs": [
    {
     "name": "stdout",
     "output_type": "stream",
     "text": [
      "[1.01850059e-311 1.01850059e-311 1.01850059e-311]\n",
      "[[0.00000000e+000 0.00000000e+000]\n",
      " [0.00000000e+000 0.00000000e+000]\n",
      " [0.00000000e+000 6.89715642e-321]\n",
      " [1.01643598e-311 1.01643598e-311]]\n"
     ]
    }
   ],
   "source": [
    "# Array creations using empty() funtion\n",
    "e = np.empty(3)\n",
    "print(e)\n",
    "e.dtype\n",
    "e1 = np.empty([4,2])\n",
    "print(e1)"
   ]
  },
  {
   "cell_type": "code",
   "execution_count": 17,
   "id": "1e39c6d4",
   "metadata": {},
   "outputs": [
    {
     "name": "stdout",
     "output_type": "stream",
     "text": [
      "[0 1 2 3 4 5 6 7 8 9]\n",
      "[1 3 5 7 9]\n",
      "1\n",
      "3\n",
      "5\n",
      "7\n",
      "9\n",
      "int32\n",
      "<class 'int'>\n"
     ]
    }
   ],
   "source": [
    "ar= np.arange(10)\n",
    "print(ar)\n",
    "ar1= np.arange(1,10,2)\n",
    "print(ar1)\n",
    "for a in range(1,10,2):\n",
    "    print(a)\n",
    "print(ar1.dtype)\n",
    "\n",
    "print(type(a))"
   ]
  },
  {
   "cell_type": "code",
   "execution_count": 18,
   "id": "7f15218a",
   "metadata": {},
   "outputs": [
    {
     "name": "stdout",
     "output_type": "stream",
     "text": [
      "[0.74595637 0.68831842 0.20551249 0.14828308 0.48056536 0.77967943\n",
      " 0.28257049 0.91706843 0.8575031  0.9392032 ]\n"
     ]
    }
   ],
   "source": [
    "# Generate Random float\n",
    "rf = np.random.rand(10)   # 1-D arrays using Random function\n",
    "print(rf)"
   ]
  },
  {
   "cell_type": "code",
   "execution_count": 19,
   "id": "1d9c0435",
   "metadata": {},
   "outputs": [
    {
     "name": "stdout",
     "output_type": "stream",
     "text": [
      "[[0.46429762 0.93137709 0.14808271]\n",
      " [0.22859274 0.29604983 0.52039509]\n",
      " [0.64863648 0.00344112 0.66105728]] 2\n"
     ]
    }
   ],
   "source": [
    "#Generate 2-D array using random float\n",
    "rf1= np.random.rand(3,3)\n",
    "print(rf1, rf1.ndim)\n"
   ]
  },
  {
   "cell_type": "code",
   "execution_count": 20,
   "id": "379f4ee2",
   "metadata": {},
   "outputs": [
    {
     "name": "stdout",
     "output_type": "stream",
     "text": [
      "[3 3 9]\n"
     ]
    }
   ],
   "source": [
    "#generate 1 d array containg random integers\n",
    "ri= np.random.randint(1,10,3)\n",
    "print(ri)"
   ]
  },
  {
   "cell_type": "code",
   "execution_count": 32,
   "id": "3fd4ee73",
   "metadata": {},
   "outputs": [
    {
     "name": "stdout",
     "output_type": "stream",
     "text": [
      "(array([ 1.  ,  3.25,  5.5 ,  7.75, 10.  ]), 2.25)\n"
     ]
    }
   ],
   "source": [
    "#Numpy array creation using linspace() function\n",
    "ali = np.linspace(1,10,5, retstep= True, endpoint= True)\n",
    "print(ali)"
   ]
  },
  {
   "cell_type": "markdown",
   "id": "70a996dc",
   "metadata": {},
   "source": [
    "# Numpy array Indexing"
   ]
  },
  {
   "cell_type": "code",
   "execution_count": 34,
   "id": "64e12af4",
   "metadata": {},
   "outputs": [
    {
     "name": "stdout",
     "output_type": "stream",
     "text": [
      "1\n",
      "50\n"
     ]
    }
   ],
   "source": [
    "# Accessing 1-D array elements\n",
    "arr = np.array([1,23,4,50])\n",
    "print(arr[0])  # Get the first elements from the array\n",
    "print(arr[3])  # gets the fourth element from the array"
   ]
  },
  {
   "cell_type": "code",
   "execution_count": 35,
   "id": "e1cfae47",
   "metadata": {},
   "outputs": [
    {
     "name": "stdout",
     "output_type": "stream",
     "text": [
      "51\n"
     ]
    }
   ],
   "source": [
    "arr1 = np.array([1,23,4,50])\n",
    "print(arr1[0]+arr1[3]) # gets first element and fourth element from the array add them"
   ]
  },
  {
   "cell_type": "code",
   "execution_count": 40,
   "id": "e0268578",
   "metadata": {},
   "outputs": [
    {
     "name": "stdout",
     "output_type": "stream",
     "text": [
      " 3rd element on 1st dimension:- 3\n"
     ]
    }
   ],
   "source": [
    "# Accessing 2-D Array\n",
    "arr3 = np.array([[1,2,3,4,5],[6,7,8,9,10]])\n",
    "print(' 3rd element on 1st dimension:-',arr3[0,2])        "
   ]
  },
  {
   "cell_type": "code",
   "execution_count": 41,
   "id": "e24a6f2d",
   "metadata": {},
   "outputs": [
    {
     "name": "stdout",
     "output_type": "stream",
     "text": [
      " 4th element on 2nd dimension:- 9\n"
     ]
    }
   ],
   "source": [
    "# Accessing 2-D Array\n",
    "arr4 = np.array([[1,2,3,4,5],[6,7,8,9,10]])\n",
    "print(' 4th element on 2nd dimension:-',arr3[1,3]) "
   ]
  },
  {
   "cell_type": "code",
   "execution_count": 44,
   "id": "3b4a2ed5",
   "metadata": {},
   "outputs": [
    {
     "name": "stdout",
     "output_type": "stream",
     "text": [
      "6\n",
      "87\n"
     ]
    }
   ],
   "source": [
    "# Accessing 3-D Array\n",
    "arr5 = np.array([[[1,2,3],[4,5,6]],[[7,87,9],[10,11,12]]])\n",
    "print(arr5[0,1,2])\n",
    "print(arr5[1,0,-2])"
   ]
  },
  {
   "cell_type": "markdown",
   "id": "8a2dd1ee",
   "metadata": {},
   "source": [
    "# Numpy Array Slilcing"
   ]
  },
  {
   "cell_type": "code",
   "execution_count": 7,
   "id": "d0704465",
   "metadata": {},
   "outputs": [
    {
     "name": "stdout",
     "output_type": "stream",
     "text": [
      "[1 2 3 4 5]\n",
      "[6 7]\n",
      "[1 2 3 4 5]\n",
      "[5 6]\n"
     ]
    }
   ],
   "source": [
    "#Slicing elements \n",
    "import numpy as np\n",
    "sarr1= np.array([1,2,3,4,5,6,7])\n",
    "print(sarr1[0:5])\n",
    "print(sarr1[5:])\n",
    "print(sarr1[:5])\n",
    "print(sarr1[-3:-1])"
   ]
  },
  {
   "cell_type": "code",
   "execution_count": 14,
   "id": "523dd555",
   "metadata": {},
   "outputs": [
    {
     "name": "stdout",
     "output_type": "stream",
     "text": [
      "[2 4]\n",
      "[1 3 5 7]\n"
     ]
    }
   ],
   "source": [
    "#slicing arrays using step\n",
    "sarr2= np.array([1,2,3,4,5,6,7])\n",
    "print(sarr2[1:5:2])\n",
    "print(sarr2[::2])"
   ]
  },
  {
   "cell_type": "code",
   "execution_count": 27,
   "id": "3781905a",
   "metadata": {},
   "outputs": [
    {
     "name": "stdout",
     "output_type": "stream",
     "text": [
      "[7]\n",
      "[[2]\n",
      " [7]]\n"
     ]
    }
   ],
   "source": [
    "sarr3 = np.array([[1,2,3,4,5],[6,7,8,9,10]])\n",
    "print(sarr3[1,1:4:3])\n",
    "print(sarr3[0:2,1:2])"
   ]
  },
  {
   "cell_type": "code",
   "execution_count": null,
   "id": "d72af7fa",
   "metadata": {},
   "outputs": [],
   "source": []
  }
 ],
 "metadata": {
  "kernelspec": {
   "display_name": "Python 3",
   "language": "python",
   "name": "python3"
  },
  "language_info": {
   "codemirror_mode": {
    "name": "ipython",
    "version": 3
   },
   "file_extension": ".py",
   "mimetype": "text/x-python",
   "name": "python",
   "nbconvert_exporter": "python",
   "pygments_lexer": "ipython3",
   "version": "3.8.3"
  }
 },
 "nbformat": 4,
 "nbformat_minor": 5
}
